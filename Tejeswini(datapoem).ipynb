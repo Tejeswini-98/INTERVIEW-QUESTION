{
 "cells": [
  {
   "cell_type": "raw",
   "id": "87644436",
   "metadata": {},
   "source": [
    "Question.2.\n",
    "1. Create the following table using the sample dataset provided, programmatically. Clean the\n",
    "dataset if needed.\n",
    "2. Whether any inference could be reasoned out from the dataset.\n",
    "3. Use any machine learning algorithm(s) to predict the Feedback. Reason out your choices. (Don't\n",
    "worry too much about the accuracy). (Please specify the criteria for selection of machine learning\n",
    "algorithm for solving the problem)\n",
    "             Type A1001 A1002 A1003 A1004 A1005 Total\n",
    "             TypeA\n",
    "             TypeB\n",
    "             TypeC\n",
    "             TypeD\n",
    "\n",
    "Total\n",
    "NOTE:\n",
    "ID – LeadID\n",
    "Type – Mode of Communication\n",
    "Date – Time of Communication\n",
    "CountA-C – Some arbitrary measurements for that Lead\n",
    "User – User who makes the communication\n",
    "FeedBack – Outcome of the communication (NC – No Contact, NI- Not Interested)\n",
    "Data:\n",
    "https://docs.google.com/spreadsheets/d/1FUQG48pPtu033_GtiELOo-eI0NsCvtSx/edit?usp=sharing&\n",
    "ouid=105662998708313895151&rtpof=true&sd=true"
   ]
  },
  {
   "cell_type": "code",
   "execution_count": 1,
   "id": "52ffbb96",
   "metadata": {},
   "outputs": [],
   "source": [
    "# import the necessary Libraries\n",
    "import pandas as pd\n",
    "import numpy as np\n",
    "from matplotlib import pyplot as plt\n",
    "import seaborn as sns\n",
    "import warnings \n",
    "warnings.filterwarnings('ignore')"
   ]
  },
  {
   "cell_type": "code",
   "execution_count": 2,
   "id": "875a3499",
   "metadata": {},
   "outputs": [
    {
     "data": {
      "text/html": [
       "<div>\n",
       "<style scoped>\n",
       "    .dataframe tbody tr th:only-of-type {\n",
       "        vertical-align: middle;\n",
       "    }\n",
       "\n",
       "    .dataframe tbody tr th {\n",
       "        vertical-align: top;\n",
       "    }\n",
       "\n",
       "    .dataframe thead th {\n",
       "        text-align: right;\n",
       "    }\n",
       "</style>\n",
       "<table border=\"1\" class=\"dataframe\">\n",
       "  <thead>\n",
       "    <tr style=\"text-align: right;\">\n",
       "      <th></th>\n",
       "      <th>Unnamed: 0</th>\n",
       "      <th>Id</th>\n",
       "      <th>Type</th>\n",
       "      <th>Date</th>\n",
       "      <th>CountA</th>\n",
       "      <th>CountB</th>\n",
       "      <th>CountC</th>\n",
       "      <th>FeedBack</th>\n",
       "    </tr>\n",
       "  </thead>\n",
       "  <tbody>\n",
       "    <tr>\n",
       "      <th>0</th>\n",
       "      <td>1.0</td>\n",
       "      <td>10121.0</td>\n",
       "      <td>Email</td>\n",
       "      <td>2016-08-04 10:16:47</td>\n",
       "      <td>0.096352</td>\n",
       "      <td>0.769845</td>\n",
       "      <td>0.159108</td>\n",
       "      <td>Others</td>\n",
       "    </tr>\n",
       "    <tr>\n",
       "      <th>1</th>\n",
       "      <td>2.0</td>\n",
       "      <td>10122.0</td>\n",
       "      <td>Email</td>\n",
       "      <td>2016-08-04 10:18:28</td>\n",
       "      <td>0.586269</td>\n",
       "      <td>0.953805</td>\n",
       "      <td>0.351482</td>\n",
       "      <td>Others</td>\n",
       "    </tr>\n",
       "    <tr>\n",
       "      <th>2</th>\n",
       "      <td>3.0</td>\n",
       "      <td>10123.0</td>\n",
       "      <td>Email</td>\n",
       "      <td>2016-08-04 10:30:24</td>\n",
       "      <td>0.723392</td>\n",
       "      <td>0.761742</td>\n",
       "      <td>0.527675</td>\n",
       "      <td>Others</td>\n",
       "    </tr>\n",
       "    <tr>\n",
       "      <th>3</th>\n",
       "      <td>4.0</td>\n",
       "      <td>10124.0</td>\n",
       "      <td>Email</td>\n",
       "      <td>2016-08-04 10:41:56</td>\n",
       "      <td>0.516635</td>\n",
       "      <td>0.391858</td>\n",
       "      <td>0.425367</td>\n",
       "      <td>Others</td>\n",
       "    </tr>\n",
       "    <tr>\n",
       "      <th>4</th>\n",
       "      <td>5.0</td>\n",
       "      <td>10125.0</td>\n",
       "      <td>Email</td>\n",
       "      <td>2016-08-04 10:59:00</td>\n",
       "      <td>0.112042</td>\n",
       "      <td>0.651565</td>\n",
       "      <td>0.514086</td>\n",
       "      <td>Others</td>\n",
       "    </tr>\n",
       "    <tr>\n",
       "      <th>...</th>\n",
       "      <td>...</td>\n",
       "      <td>...</td>\n",
       "      <td>...</td>\n",
       "      <td>...</td>\n",
       "      <td>...</td>\n",
       "      <td>...</td>\n",
       "      <td>...</td>\n",
       "      <td>...</td>\n",
       "    </tr>\n",
       "    <tr>\n",
       "      <th>59</th>\n",
       "      <td>58.0</td>\n",
       "      <td>10215.0</td>\n",
       "      <td>Update</td>\n",
       "      <td>2016-08-04 17:44:26</td>\n",
       "      <td>0.450194</td>\n",
       "      <td>0.053212</td>\n",
       "      <td>0.103549</td>\n",
       "      <td>NaN</td>\n",
       "    </tr>\n",
       "    <tr>\n",
       "      <th>60</th>\n",
       "      <td>59.0</td>\n",
       "      <td>10216.0</td>\n",
       "      <td>Email</td>\n",
       "      <td>2016-08-04 17:44:37</td>\n",
       "      <td>0.413114</td>\n",
       "      <td>0.600757</td>\n",
       "      <td>0.041972</td>\n",
       "      <td>Others</td>\n",
       "    </tr>\n",
       "    <tr>\n",
       "      <th>61</th>\n",
       "      <td>60.0</td>\n",
       "      <td>10217.0</td>\n",
       "      <td>Update</td>\n",
       "      <td>2016-08-04 18:07:52</td>\n",
       "      <td>0.595915</td>\n",
       "      <td>0.759617</td>\n",
       "      <td>0.771144</td>\n",
       "      <td>NC</td>\n",
       "    </tr>\n",
       "    <tr>\n",
       "      <th>62</th>\n",
       "      <td>61.0</td>\n",
       "      <td>10218.0</td>\n",
       "      <td>Email</td>\n",
       "      <td>2016-08-04 19:04:04</td>\n",
       "      <td>0.691952</td>\n",
       "      <td>0.189839</td>\n",
       "      <td>0.246419</td>\n",
       "      <td>Others</td>\n",
       "    </tr>\n",
       "    <tr>\n",
       "      <th>63</th>\n",
       "      <td>62.0</td>\n",
       "      <td>10219.0</td>\n",
       "      <td>Update</td>\n",
       "      <td>2016-08-04 19:04:15</td>\n",
       "      <td>0.214113</td>\n",
       "      <td>0.721562</td>\n",
       "      <td>0.123712</td>\n",
       "      <td>Undecided</td>\n",
       "    </tr>\n",
       "  </tbody>\n",
       "</table>\n",
       "<p>64 rows × 8 columns</p>\n",
       "</div>"
      ],
      "text/plain": [
       "    Unnamed: 0       Id    Type                Date    CountA    CountB  \\\n",
       "0          1.0  10121.0   Email 2016-08-04 10:16:47  0.096352  0.769845   \n",
       "1          2.0  10122.0   Email 2016-08-04 10:18:28  0.586269  0.953805   \n",
       "2          3.0  10123.0   Email 2016-08-04 10:30:24  0.723392  0.761742   \n",
       "3          4.0  10124.0   Email 2016-08-04 10:41:56  0.516635  0.391858   \n",
       "4          5.0  10125.0   Email 2016-08-04 10:59:00  0.112042  0.651565   \n",
       "..         ...      ...     ...                 ...       ...       ...   \n",
       "59        58.0  10215.0  Update 2016-08-04 17:44:26  0.450194  0.053212   \n",
       "60        59.0  10216.0   Email 2016-08-04 17:44:37  0.413114  0.600757   \n",
       "61        60.0  10217.0  Update 2016-08-04 18:07:52  0.595915  0.759617   \n",
       "62        61.0  10218.0   Email 2016-08-04 19:04:04  0.691952  0.189839   \n",
       "63        62.0  10219.0  Update 2016-08-04 19:04:15  0.214113  0.721562   \n",
       "\n",
       "      CountC   FeedBack  \n",
       "0   0.159108     Others  \n",
       "1   0.351482     Others  \n",
       "2   0.527675     Others  \n",
       "3   0.425367     Others  \n",
       "4   0.514086     Others  \n",
       "..       ...        ...  \n",
       "59  0.103549        NaN  \n",
       "60  0.041972     Others  \n",
       "61  0.771144         NC  \n",
       "62  0.246419     Others  \n",
       "63  0.123712  Undecided  \n",
       "\n",
       "[64 rows x 8 columns]"
      ]
     },
     "execution_count": 2,
     "metadata": {},
     "output_type": "execute_result"
    }
   ],
   "source": [
    "dataset=pd.read_excel(\"SampleData.xlsx\")\n",
    "dataset"
   ]
  },
  {
   "cell_type": "markdown",
   "id": "0e5d2f42",
   "metadata": {},
   "source": [
    "### DATA PreProcessing"
   ]
  },
  {
   "cell_type": "code",
   "execution_count": 4,
   "id": "e8805ee5",
   "metadata": {},
   "outputs": [],
   "source": [
    "dataset=dataset.drop('Unnamed: 0',axis=1)"
   ]
  },
  {
   "cell_type": "markdown",
   "id": "48eecfb6",
   "metadata": {},
   "source": [
    "* After imnporting the dataset from the excel files\n",
    "* Analysis the dataset the Unnamed: 0 columns is same as index\n",
    "* so we can drop the columns in the dataset"
   ]
  },
  {
   "cell_type": "code",
   "execution_count": 5,
   "id": "4a0bd94e",
   "metadata": {},
   "outputs": [
    {
     "data": {
      "text/html": [
       "<div>\n",
       "<style scoped>\n",
       "    .dataframe tbody tr th:only-of-type {\n",
       "        vertical-align: middle;\n",
       "    }\n",
       "\n",
       "    .dataframe tbody tr th {\n",
       "        vertical-align: top;\n",
       "    }\n",
       "\n",
       "    .dataframe thead th {\n",
       "        text-align: right;\n",
       "    }\n",
       "</style>\n",
       "<table border=\"1\" class=\"dataframe\">\n",
       "  <thead>\n",
       "    <tr style=\"text-align: right;\">\n",
       "      <th></th>\n",
       "      <th>Id</th>\n",
       "      <th>Type</th>\n",
       "      <th>Date</th>\n",
       "      <th>CountA</th>\n",
       "      <th>CountB</th>\n",
       "      <th>CountC</th>\n",
       "      <th>FeedBack</th>\n",
       "    </tr>\n",
       "  </thead>\n",
       "  <tbody>\n",
       "    <tr>\n",
       "      <th>0</th>\n",
       "      <td>10121.0</td>\n",
       "      <td>Email</td>\n",
       "      <td>2016-08-04 10:16:47</td>\n",
       "      <td>0.096352</td>\n",
       "      <td>0.769845</td>\n",
       "      <td>0.159108</td>\n",
       "      <td>Others</td>\n",
       "    </tr>\n",
       "    <tr>\n",
       "      <th>1</th>\n",
       "      <td>10122.0</td>\n",
       "      <td>Email</td>\n",
       "      <td>2016-08-04 10:18:28</td>\n",
       "      <td>0.586269</td>\n",
       "      <td>0.953805</td>\n",
       "      <td>0.351482</td>\n",
       "      <td>Others</td>\n",
       "    </tr>\n",
       "    <tr>\n",
       "      <th>2</th>\n",
       "      <td>10123.0</td>\n",
       "      <td>Email</td>\n",
       "      <td>2016-08-04 10:30:24</td>\n",
       "      <td>0.723392</td>\n",
       "      <td>0.761742</td>\n",
       "      <td>0.527675</td>\n",
       "      <td>Others</td>\n",
       "    </tr>\n",
       "    <tr>\n",
       "      <th>3</th>\n",
       "      <td>10124.0</td>\n",
       "      <td>Email</td>\n",
       "      <td>2016-08-04 10:41:56</td>\n",
       "      <td>0.516635</td>\n",
       "      <td>0.391858</td>\n",
       "      <td>0.425367</td>\n",
       "      <td>Others</td>\n",
       "    </tr>\n",
       "    <tr>\n",
       "      <th>4</th>\n",
       "      <td>10125.0</td>\n",
       "      <td>Email</td>\n",
       "      <td>2016-08-04 10:59:00</td>\n",
       "      <td>0.112042</td>\n",
       "      <td>0.651565</td>\n",
       "      <td>0.514086</td>\n",
       "      <td>Others</td>\n",
       "    </tr>\n",
       "    <tr>\n",
       "      <th>...</th>\n",
       "      <td>...</td>\n",
       "      <td>...</td>\n",
       "      <td>...</td>\n",
       "      <td>...</td>\n",
       "      <td>...</td>\n",
       "      <td>...</td>\n",
       "      <td>...</td>\n",
       "    </tr>\n",
       "    <tr>\n",
       "      <th>59</th>\n",
       "      <td>10215.0</td>\n",
       "      <td>Update</td>\n",
       "      <td>2016-08-04 17:44:26</td>\n",
       "      <td>0.450194</td>\n",
       "      <td>0.053212</td>\n",
       "      <td>0.103549</td>\n",
       "      <td>NaN</td>\n",
       "    </tr>\n",
       "    <tr>\n",
       "      <th>60</th>\n",
       "      <td>10216.0</td>\n",
       "      <td>Email</td>\n",
       "      <td>2016-08-04 17:44:37</td>\n",
       "      <td>0.413114</td>\n",
       "      <td>0.600757</td>\n",
       "      <td>0.041972</td>\n",
       "      <td>Others</td>\n",
       "    </tr>\n",
       "    <tr>\n",
       "      <th>61</th>\n",
       "      <td>10217.0</td>\n",
       "      <td>Update</td>\n",
       "      <td>2016-08-04 18:07:52</td>\n",
       "      <td>0.595915</td>\n",
       "      <td>0.759617</td>\n",
       "      <td>0.771144</td>\n",
       "      <td>NC</td>\n",
       "    </tr>\n",
       "    <tr>\n",
       "      <th>62</th>\n",
       "      <td>10218.0</td>\n",
       "      <td>Email</td>\n",
       "      <td>2016-08-04 19:04:04</td>\n",
       "      <td>0.691952</td>\n",
       "      <td>0.189839</td>\n",
       "      <td>0.246419</td>\n",
       "      <td>Others</td>\n",
       "    </tr>\n",
       "    <tr>\n",
       "      <th>63</th>\n",
       "      <td>10219.0</td>\n",
       "      <td>Update</td>\n",
       "      <td>2016-08-04 19:04:15</td>\n",
       "      <td>0.214113</td>\n",
       "      <td>0.721562</td>\n",
       "      <td>0.123712</td>\n",
       "      <td>Undecided</td>\n",
       "    </tr>\n",
       "  </tbody>\n",
       "</table>\n",
       "<p>64 rows × 7 columns</p>\n",
       "</div>"
      ],
      "text/plain": [
       "         Id    Type                Date    CountA    CountB    CountC  \\\n",
       "0   10121.0   Email 2016-08-04 10:16:47  0.096352  0.769845  0.159108   \n",
       "1   10122.0   Email 2016-08-04 10:18:28  0.586269  0.953805  0.351482   \n",
       "2   10123.0   Email 2016-08-04 10:30:24  0.723392  0.761742  0.527675   \n",
       "3   10124.0   Email 2016-08-04 10:41:56  0.516635  0.391858  0.425367   \n",
       "4   10125.0   Email 2016-08-04 10:59:00  0.112042  0.651565  0.514086   \n",
       "..      ...     ...                 ...       ...       ...       ...   \n",
       "59  10215.0  Update 2016-08-04 17:44:26  0.450194  0.053212  0.103549   \n",
       "60  10216.0   Email 2016-08-04 17:44:37  0.413114  0.600757  0.041972   \n",
       "61  10217.0  Update 2016-08-04 18:07:52  0.595915  0.759617  0.771144   \n",
       "62  10218.0   Email 2016-08-04 19:04:04  0.691952  0.189839  0.246419   \n",
       "63  10219.0  Update 2016-08-04 19:04:15  0.214113  0.721562  0.123712   \n",
       "\n",
       "     FeedBack  \n",
       "0      Others  \n",
       "1      Others  \n",
       "2      Others  \n",
       "3      Others  \n",
       "4      Others  \n",
       "..        ...  \n",
       "59        NaN  \n",
       "60     Others  \n",
       "61         NC  \n",
       "62     Others  \n",
       "63  Undecided  \n",
       "\n",
       "[64 rows x 7 columns]"
      ]
     },
     "execution_count": 5,
     "metadata": {},
     "output_type": "execute_result"
    }
   ],
   "source": [
    "dataset"
   ]
  },
  {
   "cell_type": "code",
   "execution_count": 6,
   "id": "5e215298",
   "metadata": {},
   "outputs": [
    {
     "data": {
      "text/html": [
       "<div>\n",
       "<style scoped>\n",
       "    .dataframe tbody tr th:only-of-type {\n",
       "        vertical-align: middle;\n",
       "    }\n",
       "\n",
       "    .dataframe tbody tr th {\n",
       "        vertical-align: top;\n",
       "    }\n",
       "\n",
       "    .dataframe thead th {\n",
       "        text-align: right;\n",
       "    }\n",
       "</style>\n",
       "<table border=\"1\" class=\"dataframe\">\n",
       "  <thead>\n",
       "    <tr style=\"text-align: right;\">\n",
       "      <th></th>\n",
       "      <th>Id</th>\n",
       "      <th>Type</th>\n",
       "      <th>Date</th>\n",
       "      <th>CountA</th>\n",
       "      <th>CountB</th>\n",
       "      <th>CountC</th>\n",
       "      <th>FeedBack</th>\n",
       "    </tr>\n",
       "  </thead>\n",
       "  <tbody>\n",
       "    <tr>\n",
       "      <th>0</th>\n",
       "      <td>10121.0</td>\n",
       "      <td>Email</td>\n",
       "      <td>2016-08-04 10:16:47</td>\n",
       "      <td>0.096352</td>\n",
       "      <td>0.769845</td>\n",
       "      <td>0.159108</td>\n",
       "      <td>Others</td>\n",
       "    </tr>\n",
       "    <tr>\n",
       "      <th>1</th>\n",
       "      <td>10122.0</td>\n",
       "      <td>Email</td>\n",
       "      <td>2016-08-04 10:18:28</td>\n",
       "      <td>0.586269</td>\n",
       "      <td>0.953805</td>\n",
       "      <td>0.351482</td>\n",
       "      <td>Others</td>\n",
       "    </tr>\n",
       "    <tr>\n",
       "      <th>2</th>\n",
       "      <td>10123.0</td>\n",
       "      <td>Email</td>\n",
       "      <td>2016-08-04 10:30:24</td>\n",
       "      <td>0.723392</td>\n",
       "      <td>0.761742</td>\n",
       "      <td>0.527675</td>\n",
       "      <td>Others</td>\n",
       "    </tr>\n",
       "    <tr>\n",
       "      <th>3</th>\n",
       "      <td>10124.0</td>\n",
       "      <td>Email</td>\n",
       "      <td>2016-08-04 10:41:56</td>\n",
       "      <td>0.516635</td>\n",
       "      <td>0.391858</td>\n",
       "      <td>0.425367</td>\n",
       "      <td>Others</td>\n",
       "    </tr>\n",
       "    <tr>\n",
       "      <th>4</th>\n",
       "      <td>10125.0</td>\n",
       "      <td>Email</td>\n",
       "      <td>2016-08-04 10:59:00</td>\n",
       "      <td>0.112042</td>\n",
       "      <td>0.651565</td>\n",
       "      <td>0.514086</td>\n",
       "      <td>Others</td>\n",
       "    </tr>\n",
       "  </tbody>\n",
       "</table>\n",
       "</div>"
      ],
      "text/plain": [
       "        Id   Type                Date    CountA    CountB    CountC FeedBack\n",
       "0  10121.0  Email 2016-08-04 10:16:47  0.096352  0.769845  0.159108   Others\n",
       "1  10122.0  Email 2016-08-04 10:18:28  0.586269  0.953805  0.351482   Others\n",
       "2  10123.0  Email 2016-08-04 10:30:24  0.723392  0.761742  0.527675   Others\n",
       "3  10124.0  Email 2016-08-04 10:41:56  0.516635  0.391858  0.425367   Others\n",
       "4  10125.0  Email 2016-08-04 10:59:00  0.112042  0.651565  0.514086   Others"
      ]
     },
     "execution_count": 6,
     "metadata": {},
     "output_type": "execute_result"
    }
   ],
   "source": [
    "dataset.head()"
   ]
  },
  {
   "cell_type": "code",
   "execution_count": 7,
   "id": "31828387",
   "metadata": {},
   "outputs": [
    {
     "data": {
      "text/html": [
       "<div>\n",
       "<style scoped>\n",
       "    .dataframe tbody tr th:only-of-type {\n",
       "        vertical-align: middle;\n",
       "    }\n",
       "\n",
       "    .dataframe tbody tr th {\n",
       "        vertical-align: top;\n",
       "    }\n",
       "\n",
       "    .dataframe thead th {\n",
       "        text-align: right;\n",
       "    }\n",
       "</style>\n",
       "<table border=\"1\" class=\"dataframe\">\n",
       "  <thead>\n",
       "    <tr style=\"text-align: right;\">\n",
       "      <th></th>\n",
       "      <th>Id</th>\n",
       "      <th>Type</th>\n",
       "      <th>Date</th>\n",
       "      <th>CountA</th>\n",
       "      <th>CountB</th>\n",
       "      <th>CountC</th>\n",
       "      <th>FeedBack</th>\n",
       "    </tr>\n",
       "  </thead>\n",
       "  <tbody>\n",
       "    <tr>\n",
       "      <th>59</th>\n",
       "      <td>10215.0</td>\n",
       "      <td>Update</td>\n",
       "      <td>2016-08-04 17:44:26</td>\n",
       "      <td>0.450194</td>\n",
       "      <td>0.053212</td>\n",
       "      <td>0.103549</td>\n",
       "      <td>NaN</td>\n",
       "    </tr>\n",
       "    <tr>\n",
       "      <th>60</th>\n",
       "      <td>10216.0</td>\n",
       "      <td>Email</td>\n",
       "      <td>2016-08-04 17:44:37</td>\n",
       "      <td>0.413114</td>\n",
       "      <td>0.600757</td>\n",
       "      <td>0.041972</td>\n",
       "      <td>Others</td>\n",
       "    </tr>\n",
       "    <tr>\n",
       "      <th>61</th>\n",
       "      <td>10217.0</td>\n",
       "      <td>Update</td>\n",
       "      <td>2016-08-04 18:07:52</td>\n",
       "      <td>0.595915</td>\n",
       "      <td>0.759617</td>\n",
       "      <td>0.771144</td>\n",
       "      <td>NC</td>\n",
       "    </tr>\n",
       "    <tr>\n",
       "      <th>62</th>\n",
       "      <td>10218.0</td>\n",
       "      <td>Email</td>\n",
       "      <td>2016-08-04 19:04:04</td>\n",
       "      <td>0.691952</td>\n",
       "      <td>0.189839</td>\n",
       "      <td>0.246419</td>\n",
       "      <td>Others</td>\n",
       "    </tr>\n",
       "    <tr>\n",
       "      <th>63</th>\n",
       "      <td>10219.0</td>\n",
       "      <td>Update</td>\n",
       "      <td>2016-08-04 19:04:15</td>\n",
       "      <td>0.214113</td>\n",
       "      <td>0.721562</td>\n",
       "      <td>0.123712</td>\n",
       "      <td>Undecided</td>\n",
       "    </tr>\n",
       "  </tbody>\n",
       "</table>\n",
       "</div>"
      ],
      "text/plain": [
       "         Id    Type                Date    CountA    CountB    CountC  \\\n",
       "59  10215.0  Update 2016-08-04 17:44:26  0.450194  0.053212  0.103549   \n",
       "60  10216.0   Email 2016-08-04 17:44:37  0.413114  0.600757  0.041972   \n",
       "61  10217.0  Update 2016-08-04 18:07:52  0.595915  0.759617  0.771144   \n",
       "62  10218.0   Email 2016-08-04 19:04:04  0.691952  0.189839  0.246419   \n",
       "63  10219.0  Update 2016-08-04 19:04:15  0.214113  0.721562  0.123712   \n",
       "\n",
       "     FeedBack  \n",
       "59        NaN  \n",
       "60     Others  \n",
       "61         NC  \n",
       "62     Others  \n",
       "63  Undecided  "
      ]
     },
     "execution_count": 7,
     "metadata": {},
     "output_type": "execute_result"
    }
   ],
   "source": [
    "dataset.tail()"
   ]
  },
  {
   "cell_type": "code",
   "execution_count": 8,
   "id": "476c13b7",
   "metadata": {},
   "outputs": [
    {
     "data": {
      "text/plain": [
       "(64, 7)"
      ]
     },
     "execution_count": 8,
     "metadata": {},
     "output_type": "execute_result"
    }
   ],
   "source": [
    "dataset.shape"
   ]
  },
  {
   "cell_type": "code",
   "execution_count": 9,
   "id": "0393bda2",
   "metadata": {},
   "outputs": [
    {
     "data": {
      "text/html": [
       "<div>\n",
       "<style scoped>\n",
       "    .dataframe tbody tr th:only-of-type {\n",
       "        vertical-align: middle;\n",
       "    }\n",
       "\n",
       "    .dataframe tbody tr th {\n",
       "        vertical-align: top;\n",
       "    }\n",
       "\n",
       "    .dataframe thead th {\n",
       "        text-align: right;\n",
       "    }\n",
       "</style>\n",
       "<table border=\"1\" class=\"dataframe\">\n",
       "  <thead>\n",
       "    <tr style=\"text-align: right;\">\n",
       "      <th></th>\n",
       "      <th>Id</th>\n",
       "      <th>CountA</th>\n",
       "      <th>CountB</th>\n",
       "      <th>CountC</th>\n",
       "    </tr>\n",
       "  </thead>\n",
       "  <tbody>\n",
       "    <tr>\n",
       "      <th>count</th>\n",
       "      <td>64.000000</td>\n",
       "      <td>64.000000</td>\n",
       "      <td>64.000000</td>\n",
       "      <td>64.000000</td>\n",
       "    </tr>\n",
       "    <tr>\n",
       "      <th>mean</th>\n",
       "      <td>10158.500000</td>\n",
       "      <td>0.533243</td>\n",
       "      <td>0.540540</td>\n",
       "      <td>0.465260</td>\n",
       "    </tr>\n",
       "    <tr>\n",
       "      <th>std</th>\n",
       "      <td>29.131884</td>\n",
       "      <td>0.265006</td>\n",
       "      <td>0.288266</td>\n",
       "      <td>0.271288</td>\n",
       "    </tr>\n",
       "    <tr>\n",
       "      <th>min</th>\n",
       "      <td>10121.000000</td>\n",
       "      <td>0.075979</td>\n",
       "      <td>0.015813</td>\n",
       "      <td>0.012590</td>\n",
       "    </tr>\n",
       "    <tr>\n",
       "      <th>25%</th>\n",
       "      <td>10136.750000</td>\n",
       "      <td>0.322746</td>\n",
       "      <td>0.328622</td>\n",
       "      <td>0.253948</td>\n",
       "    </tr>\n",
       "    <tr>\n",
       "      <th>50%</th>\n",
       "      <td>10152.500000</td>\n",
       "      <td>0.553836</td>\n",
       "      <td>0.604270</td>\n",
       "      <td>0.429396</td>\n",
       "    </tr>\n",
       "    <tr>\n",
       "      <th>75%</th>\n",
       "      <td>10168.250000</td>\n",
       "      <td>0.743971</td>\n",
       "      <td>0.762401</td>\n",
       "      <td>0.677926</td>\n",
       "    </tr>\n",
       "    <tr>\n",
       "      <th>max</th>\n",
       "      <td>10219.000000</td>\n",
       "      <td>0.985210</td>\n",
       "      <td>0.998432</td>\n",
       "      <td>0.933021</td>\n",
       "    </tr>\n",
       "  </tbody>\n",
       "</table>\n",
       "</div>"
      ],
      "text/plain": [
       "                 Id     CountA     CountB     CountC\n",
       "count     64.000000  64.000000  64.000000  64.000000\n",
       "mean   10158.500000   0.533243   0.540540   0.465260\n",
       "std       29.131884   0.265006   0.288266   0.271288\n",
       "min    10121.000000   0.075979   0.015813   0.012590\n",
       "25%    10136.750000   0.322746   0.328622   0.253948\n",
       "50%    10152.500000   0.553836   0.604270   0.429396\n",
       "75%    10168.250000   0.743971   0.762401   0.677926\n",
       "max    10219.000000   0.985210   0.998432   0.933021"
      ]
     },
     "execution_count": 9,
     "metadata": {},
     "output_type": "execute_result"
    }
   ],
   "source": [
    "dataset.describe()#(include='all')"
   ]
  },
  {
   "cell_type": "code",
   "execution_count": 10,
   "id": "465f56c1",
   "metadata": {},
   "outputs": [
    {
     "name": "stdout",
     "output_type": "stream",
     "text": [
      "<class 'pandas.core.frame.DataFrame'>\n",
      "RangeIndex: 64 entries, 0 to 63\n",
      "Data columns (total 7 columns):\n",
      " #   Column    Non-Null Count  Dtype         \n",
      "---  ------    --------------  -----         \n",
      " 0   Id        64 non-null     float64       \n",
      " 1   Type      63 non-null     object        \n",
      " 2   Date      64 non-null     datetime64[ns]\n",
      " 3   CountA    64 non-null     float64       \n",
      " 4   CountB    64 non-null     float64       \n",
      " 5   CountC    64 non-null     float64       \n",
      " 6   FeedBack  62 non-null     object        \n",
      "dtypes: datetime64[ns](1), float64(4), object(2)\n",
      "memory usage: 3.6+ KB\n"
     ]
    }
   ],
   "source": [
    "dataset.info()"
   ]
  },
  {
   "cell_type": "code",
   "execution_count": 11,
   "id": "ce0cb202",
   "metadata": {},
   "outputs": [],
   "source": [
    "dataset=dataset.astype({'Id':int})"
   ]
  },
  {
   "cell_type": "code",
   "execution_count": 12,
   "id": "79a00917",
   "metadata": {},
   "outputs": [
    {
     "data": {
      "text/plain": [
       "Id                   int32\n",
       "Type                object\n",
       "Date        datetime64[ns]\n",
       "CountA             float64\n",
       "CountB             float64\n",
       "CountC             float64\n",
       "FeedBack            object\n",
       "dtype: object"
      ]
     },
     "execution_count": 12,
     "metadata": {},
     "output_type": "execute_result"
    }
   ],
   "source": [
    "dataset.dtypes"
   ]
  },
  {
   "cell_type": "code",
   "execution_count": 13,
   "id": "ba8da027",
   "metadata": {},
   "outputs": [
    {
     "data": {
      "text/plain": [
       "(0, 7)"
      ]
     },
     "execution_count": 13,
     "metadata": {},
     "output_type": "execute_result"
    }
   ],
   "source": [
    "dataset[dataset.duplicated()].shape"
   ]
  },
  {
   "cell_type": "code",
   "execution_count": 14,
   "id": "b801adda",
   "metadata": {},
   "outputs": [
    {
     "data": {
      "text/plain": [
       "Id          0\n",
       "Type        1\n",
       "Date        0\n",
       "CountA      0\n",
       "CountB      0\n",
       "CountC      0\n",
       "FeedBack    2\n",
       "dtype: int64"
      ]
     },
     "execution_count": 14,
     "metadata": {},
     "output_type": "execute_result"
    }
   ],
   "source": [
    "dataset.isna().sum()"
   ]
  },
  {
   "cell_type": "code",
   "execution_count": 15,
   "id": "d92a755b",
   "metadata": {},
   "outputs": [
    {
     "data": {
      "text/html": [
       "<div>\n",
       "<style scoped>\n",
       "    .dataframe tbody tr th:only-of-type {\n",
       "        vertical-align: middle;\n",
       "    }\n",
       "\n",
       "    .dataframe tbody tr th {\n",
       "        vertical-align: top;\n",
       "    }\n",
       "\n",
       "    .dataframe thead th {\n",
       "        text-align: right;\n",
       "    }\n",
       "</style>\n",
       "<table border=\"1\" class=\"dataframe\">\n",
       "  <thead>\n",
       "    <tr style=\"text-align: right;\">\n",
       "      <th></th>\n",
       "      <th>Null Values</th>\n",
       "      <th>percentage of Null Values</th>\n",
       "    </tr>\n",
       "  </thead>\n",
       "  <tbody>\n",
       "    <tr>\n",
       "      <th>CountA</th>\n",
       "      <td>0</td>\n",
       "      <td>0.0000</td>\n",
       "    </tr>\n",
       "    <tr>\n",
       "      <th>CountB</th>\n",
       "      <td>0</td>\n",
       "      <td>0.0000</td>\n",
       "    </tr>\n",
       "    <tr>\n",
       "      <th>CountC</th>\n",
       "      <td>0</td>\n",
       "      <td>0.0000</td>\n",
       "    </tr>\n",
       "    <tr>\n",
       "      <th>Date</th>\n",
       "      <td>0</td>\n",
       "      <td>0.0000</td>\n",
       "    </tr>\n",
       "    <tr>\n",
       "      <th>FeedBack</th>\n",
       "      <td>2</td>\n",
       "      <td>3.1250</td>\n",
       "    </tr>\n",
       "    <tr>\n",
       "      <th>Id</th>\n",
       "      <td>0</td>\n",
       "      <td>0.0000</td>\n",
       "    </tr>\n",
       "    <tr>\n",
       "      <th>Type</th>\n",
       "      <td>1</td>\n",
       "      <td>1.5625</td>\n",
       "    </tr>\n",
       "  </tbody>\n",
       "</table>\n",
       "</div>"
      ],
      "text/plain": [
       "          Null Values  percentage of Null Values\n",
       "CountA              0                     0.0000\n",
       "CountB              0                     0.0000\n",
       "CountC              0                     0.0000\n",
       "Date                0                     0.0000\n",
       "FeedBack            2                     3.1250\n",
       "Id                  0                     0.0000\n",
       "Type                1                     1.5625"
      ]
     },
     "execution_count": 15,
     "metadata": {},
     "output_type": "execute_result"
    }
   ],
   "source": [
    "null=pd.DataFrame({'Null Values' :dataset.isna().sum().\n",
    "                   sort_values(ascending=True),\n",
    "                  \"percentage of Null Values\":(dataset.isna().sum().sort_values(ascending=False))/(dataset.shape[0])*(100)})\n",
    "null"
   ]
  },
  {
   "cell_type": "markdown",
   "id": "99e355c1",
   "metadata": {},
   "source": [
    "Finding the index of the null values present in dataset"
   ]
  },
  {
   "cell_type": "code",
   "execution_count": 18,
   "id": "3491069e",
   "metadata": {},
   "outputs": [
    {
     "data": {
      "text/plain": [
       "[6]"
      ]
     },
     "execution_count": 18,
     "metadata": {},
     "output_type": "execute_result"
    }
   ],
   "source": [
    "dataset[dataset['Type'].isnull()].index.tolist()"
   ]
  },
  {
   "cell_type": "code",
   "execution_count": 19,
   "id": "12e87a9d",
   "metadata": {},
   "outputs": [
    {
     "data": {
      "text/plain": [
       "[15, 59]"
      ]
     },
     "execution_count": 19,
     "metadata": {},
     "output_type": "execute_result"
    }
   ],
   "source": [
    "dataset[dataset['FeedBack'].isnull()].index.tolist()"
   ]
  },
  {
   "cell_type": "code",
   "execution_count": 22,
   "id": "89231921",
   "metadata": {},
   "outputs": [
    {
     "data": {
      "text/html": [
       "<div>\n",
       "<style scoped>\n",
       "    .dataframe tbody tr th:only-of-type {\n",
       "        vertical-align: middle;\n",
       "    }\n",
       "\n",
       "    .dataframe tbody tr th {\n",
       "        vertical-align: top;\n",
       "    }\n",
       "\n",
       "    .dataframe thead th {\n",
       "        text-align: right;\n",
       "    }\n",
       "</style>\n",
       "<table border=\"1\" class=\"dataframe\">\n",
       "  <thead>\n",
       "    <tr style=\"text-align: right;\">\n",
       "      <th></th>\n",
       "      <th>Id</th>\n",
       "      <th>Type</th>\n",
       "      <th>Date</th>\n",
       "      <th>CountA</th>\n",
       "      <th>CountB</th>\n",
       "      <th>CountC</th>\n",
       "      <th>FeedBack</th>\n",
       "    </tr>\n",
       "  </thead>\n",
       "  <tbody>\n",
       "    <tr>\n",
       "      <th>0</th>\n",
       "      <td>10121</td>\n",
       "      <td>Email</td>\n",
       "      <td>2016-08-04 10:16:47</td>\n",
       "      <td>0.096352</td>\n",
       "      <td>0.769845</td>\n",
       "      <td>0.159108</td>\n",
       "      <td>Others</td>\n",
       "    </tr>\n",
       "    <tr>\n",
       "      <th>1</th>\n",
       "      <td>10122</td>\n",
       "      <td>Email</td>\n",
       "      <td>2016-08-04 10:18:28</td>\n",
       "      <td>0.586269</td>\n",
       "      <td>0.953805</td>\n",
       "      <td>0.351482</td>\n",
       "      <td>Others</td>\n",
       "    </tr>\n",
       "    <tr>\n",
       "      <th>2</th>\n",
       "      <td>10123</td>\n",
       "      <td>Email</td>\n",
       "      <td>2016-08-04 10:30:24</td>\n",
       "      <td>0.723392</td>\n",
       "      <td>0.761742</td>\n",
       "      <td>0.527675</td>\n",
       "      <td>Others</td>\n",
       "    </tr>\n",
       "    <tr>\n",
       "      <th>3</th>\n",
       "      <td>10124</td>\n",
       "      <td>Email</td>\n",
       "      <td>2016-08-04 10:41:56</td>\n",
       "      <td>0.516635</td>\n",
       "      <td>0.391858</td>\n",
       "      <td>0.425367</td>\n",
       "      <td>Others</td>\n",
       "    </tr>\n",
       "    <tr>\n",
       "      <th>4</th>\n",
       "      <td>10125</td>\n",
       "      <td>Email</td>\n",
       "      <td>2016-08-04 10:59:00</td>\n",
       "      <td>0.112042</td>\n",
       "      <td>0.651565</td>\n",
       "      <td>0.514086</td>\n",
       "      <td>Others</td>\n",
       "    </tr>\n",
       "    <tr>\n",
       "      <th>5</th>\n",
       "      <td>10126</td>\n",
       "      <td>Email</td>\n",
       "      <td>2016-08-04 10:59:00</td>\n",
       "      <td>0.863955</td>\n",
       "      <td>0.878995</td>\n",
       "      <td>0.857369</td>\n",
       "      <td>Others</td>\n",
       "    </tr>\n",
       "    <tr>\n",
       "      <th>6</th>\n",
       "      <td>10127</td>\n",
       "      <td>NaN</td>\n",
       "      <td>2016-08-04 11:01:08</td>\n",
       "      <td>0.683207</td>\n",
       "      <td>0.422938</td>\n",
       "      <td>0.398313</td>\n",
       "      <td>Others</td>\n",
       "    </tr>\n",
       "  </tbody>\n",
       "</table>\n",
       "</div>"
      ],
      "text/plain": [
       "      Id   Type                Date    CountA    CountB    CountC FeedBack\n",
       "0  10121  Email 2016-08-04 10:16:47  0.096352  0.769845  0.159108   Others\n",
       "1  10122  Email 2016-08-04 10:18:28  0.586269  0.953805  0.351482   Others\n",
       "2  10123  Email 2016-08-04 10:30:24  0.723392  0.761742  0.527675   Others\n",
       "3  10124  Email 2016-08-04 10:41:56  0.516635  0.391858  0.425367   Others\n",
       "4  10125  Email 2016-08-04 10:59:00  0.112042  0.651565  0.514086   Others\n",
       "5  10126  Email 2016-08-04 10:59:00  0.863955  0.878995  0.857369   Others\n",
       "6  10127    NaN 2016-08-04 11:01:08  0.683207  0.422938  0.398313   Others"
      ]
     },
     "execution_count": 22,
     "metadata": {},
     "output_type": "execute_result"
    }
   ],
   "source": [
    "dataset.head(7)"
   ]
  },
  {
   "cell_type": "code",
   "execution_count": 23,
   "id": "762baffa",
   "metadata": {},
   "outputs": [
    {
     "data": {
      "text/plain": [
       "Id          63\n",
       "Type         4\n",
       "Date        62\n",
       "CountA      64\n",
       "CountB      64\n",
       "CountC      64\n",
       "FeedBack     8\n",
       "dtype: int64"
      ]
     },
     "execution_count": 23,
     "metadata": {},
     "output_type": "execute_result"
    }
   ],
   "source": [
    "dataset.nunique()#value_counts()"
   ]
  },
  {
   "cell_type": "code",
   "execution_count": 28,
   "id": "553401fe",
   "metadata": {},
   "outputs": [
    {
     "data": {
      "text/html": [
       "<div>\n",
       "<style scoped>\n",
       "    .dataframe tbody tr th:only-of-type {\n",
       "        vertical-align: middle;\n",
       "    }\n",
       "\n",
       "    .dataframe tbody tr th {\n",
       "        vertical-align: top;\n",
       "    }\n",
       "\n",
       "    .dataframe thead th {\n",
       "        text-align: right;\n",
       "    }\n",
       "</style>\n",
       "<table border=\"1\" class=\"dataframe\">\n",
       "  <thead>\n",
       "    <tr style=\"text-align: right;\">\n",
       "      <th></th>\n",
       "      <th>Type</th>\n",
       "    </tr>\n",
       "  </thead>\n",
       "  <tbody>\n",
       "    <tr>\n",
       "      <th>Update</th>\n",
       "      <td>37</td>\n",
       "    </tr>\n",
       "    <tr>\n",
       "      <th>Email</th>\n",
       "      <td>19</td>\n",
       "    </tr>\n",
       "    <tr>\n",
       "      <th>Call</th>\n",
       "      <td>7</td>\n",
       "    </tr>\n",
       "    <tr>\n",
       "      <th>Visit</th>\n",
       "      <td>1</td>\n",
       "    </tr>\n",
       "  </tbody>\n",
       "</table>\n",
       "</div>"
      ],
      "text/plain": [
       "        Type\n",
       "Update    37\n",
       "Email     19\n",
       "Call       7\n",
       "Visit      1"
      ]
     },
     "execution_count": 28,
     "metadata": {},
     "output_type": "execute_result"
    }
   ],
   "source": [
    "Value_counts=pd.DataFrame({'Type':dataset['Type'].value_counts()})\n",
    "Value_counts"
   ]
  },
  {
   "cell_type": "code",
   "execution_count": 26,
   "id": "d7df6865",
   "metadata": {},
   "outputs": [],
   "source": [
    "dataset=dataset.fillna(method='ffill')"
   ]
  },
  {
   "cell_type": "code",
   "execution_count": 27,
   "id": "ad9e4235",
   "metadata": {},
   "outputs": [
    {
     "data": {
      "text/html": [
       "<div>\n",
       "<style scoped>\n",
       "    .dataframe tbody tr th:only-of-type {\n",
       "        vertical-align: middle;\n",
       "    }\n",
       "\n",
       "    .dataframe tbody tr th {\n",
       "        vertical-align: top;\n",
       "    }\n",
       "\n",
       "    .dataframe thead th {\n",
       "        text-align: right;\n",
       "    }\n",
       "</style>\n",
       "<table border=\"1\" class=\"dataframe\">\n",
       "  <thead>\n",
       "    <tr style=\"text-align: right;\">\n",
       "      <th></th>\n",
       "      <th>FeedBack</th>\n",
       "    </tr>\n",
       "  </thead>\n",
       "  <tbody>\n",
       "    <tr>\n",
       "      <th>Others</th>\n",
       "      <td>29</td>\n",
       "    </tr>\n",
       "    <tr>\n",
       "      <th>NC</th>\n",
       "      <td>15</td>\n",
       "    </tr>\n",
       "    <tr>\n",
       "      <th>nc</th>\n",
       "      <td>13</td>\n",
       "    </tr>\n",
       "    <tr>\n",
       "      <th>UNDECIDED</th>\n",
       "      <td>2</td>\n",
       "    </tr>\n",
       "    <tr>\n",
       "      <th>Undecided</th>\n",
       "      <td>2</td>\n",
       "    </tr>\n",
       "    <tr>\n",
       "      <th>NI</th>\n",
       "      <td>1</td>\n",
       "    </tr>\n",
       "    <tr>\n",
       "      <th>undecided</th>\n",
       "      <td>1</td>\n",
       "    </tr>\n",
       "    <tr>\n",
       "      <th>undecided</th>\n",
       "      <td>1</td>\n",
       "    </tr>\n",
       "  </tbody>\n",
       "</table>\n",
       "</div>"
      ],
      "text/plain": [
       "            FeedBack\n",
       "Others            29\n",
       "NC                15\n",
       "nc                13\n",
       "UNDECIDED          2\n",
       "Undecided          2\n",
       "NI                 1\n",
       "undecided          1\n",
       "undecided          1"
      ]
     },
     "execution_count": 27,
     "metadata": {},
     "output_type": "execute_result"
    }
   ],
   "source": [
    "Value_counts=pd.DataFrame({'FeedBack':dataset['FeedBack'].value_counts()})\n",
    "Value_counts"
   ]
  },
  {
   "cell_type": "code",
   "execution_count": 179,
   "id": "dbfecf90",
   "metadata": {},
   "outputs": [
    {
     "data": {
      "image/png": "[encoded data removed]",
      "text/plain": [
       "<Figure size 720x432 with 4 Axes>"
      ]
     },
     "metadata": {},
     "output_type": "display_data"
    }
   ],
   "source": [
    "# Checking The distribution of CountA feature\n",
    "fig,ax=plt.subplots(2,2,figsize=(10,6))\n",
    "\n",
    "sns.distplot(dataset['CountA'],rug=True,ax=ax[0,0])\n",
    "ax[0,0].set_title(\"Distribution\")\n",
    "\n",
    "sns.boxenplot(x=dataset['CountA'],data=dataset,palette='rocket_r',ax=ax[0,1])\n",
    "ax[0,1].set_title(\"Outliers\")\n",
    "\n",
    "sns.violinplot(x=dataset['CountA'],alpha=.7,palette='rocket_r',data=dataset,ax=ax[1,0])\n",
    "sns.boxplot(x=dataset['FeedBack'],y=dataset['CountA'],data=dataset,palette='rocket_r',ax=ax[1,1])\n",
    "\n",
    "plt.tight_layout()\n",
    "plt.show()"
   ]
  },
  {
   "cell_type": "code",
   "execution_count": 180,
   "id": "c31d84a1",
   "metadata": {},
   "outputs": [
    {
     "data": {
      "image/png": "[encoded data removed]",
      "text/plain": [
       "<Figure size 720x432 with 4 Axes>"
      ]
     },
     "metadata": {},
     "output_type": "display_data"
    }
   ],
   "source": [
    "# Checking The distribution of CountB feature\n",
    "fig,ax=plt.subplots(2,2,figsize=(10,6))\n",
    "\n",
    "sns.distplot(dataset['CountB'],rug=True,ax=ax[0,0])\n",
    "ax[0,0].set_title(\"Distribution\")\n",
    "\n",
    "sns.boxenplot(x=dataset['CountB'],data=dataset,palette='rocket_r',ax=ax[0,1])\n",
    "ax[0,1].set_title(\"Outliers\")\n",
    "\n",
    "sns.violinplot(x=dataset['CountB'],alpha=.7,palette='rocket_r',data=dataset,ax=ax[1,0])\n",
    "sns.boxplot(x=dataset['FeedBack'],y=dataset['CountB'],data=dataset,palette='rocket_r',ax=ax[1,1])\n",
    "\n",
    "plt.tight_layout()\n",
    "plt.show()"
   ]
  },
  {
   "cell_type": "code",
   "execution_count": 181,
   "id": "92c1b063",
   "metadata": {},
   "outputs": [
    {
     "data": {
      "image/png": "[encoded data removed]",
      "text/plain": [
       "<Figure size 720x432 with 4 Axes>"
      ]
     },
     "metadata": {},
     "output_type": "display_data"
    }
   ],
   "source": [
    "# Checking The distribution of CountC feature\n",
    "fig,ax=plt.subplots(2,2,figsize=(10,6))\n",
    "\n",
    "sns.distplot(dataset['CountC'],rug=True,ax=ax[0,0])\n",
    "ax[0,0].set_title(\"Distribution\")\n",
    "\n",
    "sns.boxenplot(x=dataset['CountC'],data=dataset,palette='rocket_r',ax=ax[0,1])\n",
    "ax[0,1].set_title(\"Outliers\")\n",
    "\n",
    "sns.violinplot(x=dataset['CountC'],alpha=.7,palette='rocket_r',data=dataset,ax=ax[1,0])\n",
    "sns.boxplot(x=dataset['FeedBack'],y=dataset['CountC'],data=dataset,palette='rocket_r',ax=ax[1,1])\n",
    "\n",
    "plt.tight_layout()\n",
    "plt.show()"
   ]
  },
  {
   "cell_type": "markdown",
   "id": "5d6c752f",
   "metadata": {},
   "source": [
    "Variable Descriptions: We've got a sense of our variables, their class type, and the first few Observations of each.\n",
    "    We Know we're working with 64 observation of 7 variables.Here's what we've got to deal with Attribute Information:\n",
    "* ID – LeadID\n",
    "* Type – Mode of Communication\n",
    "* Date – Time of Communication\n",
    "* CountA-C – Some arbitrary measurements for that Lead\n",
    "* User – User who makes the communication\n",
    "* FeedBack – Outcome of the communication (NC – No Contact, NI- Not Interested)\n"
   ]
  },
  {
   "cell_type": "code",
   "execution_count": 29,
   "id": "b60e6718",
   "metadata": {},
   "outputs": [],
   "source": [
    "data=dataset.copy()"
   ]
  },
  {
   "cell_type": "markdown",
   "id": "488927ad",
   "metadata": {},
   "source": [
    "In the target variable (feedback) we have group the undecided , Undecided and UNDECIDED label\n",
    "Bcoz the names are same.\n",
    "* And group the NC and nc label too.\n",
    "* There was others variable named as Others so I have assign the 'Other' columns as NI which means the not Interested.\n",
    "* bcoz the question stated the feedback as the 2 labels called not interested(NI) and No contact NC."
   ]
  },
  {
   "cell_type": "code",
   "execution_count": 31,
   "id": "2b8d3c4a",
   "metadata": {},
   "outputs": [],
   "source": [
    "data=data.replace(['Undecided ','undecided'],'UNDECIDED')"
   ]
  },
  {
   "cell_type": "code",
   "execution_count": 49,
   "id": "99e483bb",
   "metadata": {},
   "outputs": [
    {
     "data": {
      "text/html": [
       "<div>\n",
       "<style scoped>\n",
       "    .dataframe tbody tr th:only-of-type {\n",
       "        vertical-align: middle;\n",
       "    }\n",
       "\n",
       "    .dataframe tbody tr th {\n",
       "        vertical-align: top;\n",
       "    }\n",
       "\n",
       "    .dataframe thead th {\n",
       "        text-align: right;\n",
       "    }\n",
       "</style>\n",
       "<table border=\"1\" class=\"dataframe\">\n",
       "  <thead>\n",
       "    <tr style=\"text-align: right;\">\n",
       "      <th></th>\n",
       "      <th>FeedBack</th>\n",
       "    </tr>\n",
       "  </thead>\n",
       "  <tbody>\n",
       "    <tr>\n",
       "      <th>NI</th>\n",
       "      <td>30</td>\n",
       "    </tr>\n",
       "    <tr>\n",
       "      <th>NC</th>\n",
       "      <td>28</td>\n",
       "    </tr>\n",
       "    <tr>\n",
       "      <th>Undecided</th>\n",
       "      <td>5</td>\n",
       "    </tr>\n",
       "    <tr>\n",
       "      <th>undecided</th>\n",
       "      <td>1</td>\n",
       "    </tr>\n",
       "  </tbody>\n",
       "</table>\n",
       "</div>"
      ],
      "text/plain": [
       "            FeedBack\n",
       "NI                30\n",
       "NC                28\n",
       "Undecided          5\n",
       "undecided          1"
      ]
     },
     "execution_count": 49,
     "metadata": {},
     "output_type": "execute_result"
    }
   ],
   "source": [
    "Value_counts=pd.DataFrame({'FeedBack':data['FeedBack'].value_counts()})\n",
    "Value_counts"
   ]
  },
  {
   "cell_type": "code",
   "execution_count": 30,
   "id": "6c0ea34a",
   "metadata": {},
   "outputs": [],
   "source": [
    "data=data.replace(['nc'],'NC')"
   ]
  },
  {
   "cell_type": "code",
   "execution_count": 30,
   "id": "a0933946",
   "metadata": {},
   "outputs": [],
   "source": [
    "data=data.replace(['undecided'],'UNDECIDED')"
   ]
  },
  {
   "cell_type": "code",
   "execution_count": 44,
   "id": "bac55330",
   "metadata": {},
   "outputs": [],
   "source": [
    "data=data.replace(['undecided'],'Undecided')\n"
   ]
  },
  {
   "cell_type": "code",
   "execution_count": 48,
   "id": "1334ac3b",
   "metadata": {},
   "outputs": [],
   "source": [
    "data=data.replace(['Others'],'NI')"
   ]
  },
  {
   "cell_type": "code",
   "execution_count": 50,
   "id": "b571be2c",
   "metadata": {},
   "outputs": [
    {
     "data": {
      "text/html": [
       "<div>\n",
       "<style scoped>\n",
       "    .dataframe tbody tr th:only-of-type {\n",
       "        vertical-align: middle;\n",
       "    }\n",
       "\n",
       "    .dataframe tbody tr th {\n",
       "        vertical-align: top;\n",
       "    }\n",
       "\n",
       "    .dataframe thead th {\n",
       "        text-align: right;\n",
       "    }\n",
       "</style>\n",
       "<table border=\"1\" class=\"dataframe\">\n",
       "  <thead>\n",
       "    <tr style=\"text-align: right;\">\n",
       "      <th></th>\n",
       "      <th>Id</th>\n",
       "      <th>Type</th>\n",
       "      <th>Date</th>\n",
       "      <th>CountA</th>\n",
       "      <th>CountB</th>\n",
       "      <th>CountC</th>\n",
       "      <th>FeedBack</th>\n",
       "    </tr>\n",
       "  </thead>\n",
       "  <tbody>\n",
       "    <tr>\n",
       "      <th>0</th>\n",
       "      <td>10121</td>\n",
       "      <td>Email</td>\n",
       "      <td>2016-08-04 10:16:47</td>\n",
       "      <td>0.096352</td>\n",
       "      <td>0.769845</td>\n",
       "      <td>0.159108</td>\n",
       "      <td>NI</td>\n",
       "    </tr>\n",
       "    <tr>\n",
       "      <th>1</th>\n",
       "      <td>10122</td>\n",
       "      <td>Email</td>\n",
       "      <td>2016-08-04 10:18:28</td>\n",
       "      <td>0.586269</td>\n",
       "      <td>0.953805</td>\n",
       "      <td>0.351482</td>\n",
       "      <td>NI</td>\n",
       "    </tr>\n",
       "    <tr>\n",
       "      <th>2</th>\n",
       "      <td>10123</td>\n",
       "      <td>Email</td>\n",
       "      <td>2016-08-04 10:30:24</td>\n",
       "      <td>0.723392</td>\n",
       "      <td>0.761742</td>\n",
       "      <td>0.527675</td>\n",
       "      <td>NI</td>\n",
       "    </tr>\n",
       "    <tr>\n",
       "      <th>3</th>\n",
       "      <td>10124</td>\n",
       "      <td>Email</td>\n",
       "      <td>2016-08-04 10:41:56</td>\n",
       "      <td>0.516635</td>\n",
       "      <td>0.391858</td>\n",
       "      <td>0.425367</td>\n",
       "      <td>NI</td>\n",
       "    </tr>\n",
       "    <tr>\n",
       "      <th>4</th>\n",
       "      <td>10125</td>\n",
       "      <td>Email</td>\n",
       "      <td>2016-08-04 10:59:00</td>\n",
       "      <td>0.112042</td>\n",
       "      <td>0.651565</td>\n",
       "      <td>0.514086</td>\n",
       "      <td>NI</td>\n",
       "    </tr>\n",
       "    <tr>\n",
       "      <th>...</th>\n",
       "      <td>...</td>\n",
       "      <td>...</td>\n",
       "      <td>...</td>\n",
       "      <td>...</td>\n",
       "      <td>...</td>\n",
       "      <td>...</td>\n",
       "      <td>...</td>\n",
       "    </tr>\n",
       "    <tr>\n",
       "      <th>59</th>\n",
       "      <td>10215</td>\n",
       "      <td>Update</td>\n",
       "      <td>2016-08-04 17:44:26</td>\n",
       "      <td>0.450194</td>\n",
       "      <td>0.053212</td>\n",
       "      <td>0.103549</td>\n",
       "      <td>NI</td>\n",
       "    </tr>\n",
       "    <tr>\n",
       "      <th>60</th>\n",
       "      <td>10216</td>\n",
       "      <td>Email</td>\n",
       "      <td>2016-08-04 17:44:37</td>\n",
       "      <td>0.413114</td>\n",
       "      <td>0.600757</td>\n",
       "      <td>0.041972</td>\n",
       "      <td>NI</td>\n",
       "    </tr>\n",
       "    <tr>\n",
       "      <th>61</th>\n",
       "      <td>10217</td>\n",
       "      <td>Update</td>\n",
       "      <td>2016-08-04 18:07:52</td>\n",
       "      <td>0.595915</td>\n",
       "      <td>0.759617</td>\n",
       "      <td>0.771144</td>\n",
       "      <td>NC</td>\n",
       "    </tr>\n",
       "    <tr>\n",
       "      <th>62</th>\n",
       "      <td>10218</td>\n",
       "      <td>Email</td>\n",
       "      <td>2016-08-04 19:04:04</td>\n",
       "      <td>0.691952</td>\n",
       "      <td>0.189839</td>\n",
       "      <td>0.246419</td>\n",
       "      <td>NI</td>\n",
       "    </tr>\n",
       "    <tr>\n",
       "      <th>63</th>\n",
       "      <td>10219</td>\n",
       "      <td>Update</td>\n",
       "      <td>2016-08-04 19:04:15</td>\n",
       "      <td>0.214113</td>\n",
       "      <td>0.721562</td>\n",
       "      <td>0.123712</td>\n",
       "      <td>Undecided</td>\n",
       "    </tr>\n",
       "  </tbody>\n",
       "</table>\n",
       "<p>64 rows × 7 columns</p>\n",
       "</div>"
      ],
      "text/plain": [
       "       Id    Type                Date    CountA    CountB    CountC   FeedBack\n",
       "0   10121   Email 2016-08-04 10:16:47  0.096352  0.769845  0.159108         NI\n",
       "1   10122   Email 2016-08-04 10:18:28  0.586269  0.953805  0.351482         NI\n",
       "2   10123   Email 2016-08-04 10:30:24  0.723392  0.761742  0.527675         NI\n",
       "3   10124   Email 2016-08-04 10:41:56  0.516635  0.391858  0.425367         NI\n",
       "4   10125   Email 2016-08-04 10:59:00  0.112042  0.651565  0.514086         NI\n",
       "..    ...     ...                 ...       ...       ...       ...        ...\n",
       "59  10215  Update 2016-08-04 17:44:26  0.450194  0.053212  0.103549         NI\n",
       "60  10216   Email 2016-08-04 17:44:37  0.413114  0.600757  0.041972         NI\n",
       "61  10217  Update 2016-08-04 18:07:52  0.595915  0.759617  0.771144         NC\n",
       "62  10218   Email 2016-08-04 19:04:04  0.691952  0.189839  0.246419         NI\n",
       "63  10219  Update 2016-08-04 19:04:15  0.214113  0.721562  0.123712  Undecided\n",
       "\n",
       "[64 rows x 7 columns]"
      ]
     },
     "execution_count": 50,
     "metadata": {},
     "output_type": "execute_result"
    }
   ],
   "source": [
    "data"
   ]
  },
  {
   "cell_type": "code",
   "execution_count": 51,
   "id": "5e07dd51",
   "metadata": {},
   "outputs": [],
   "source": [
    "new_dataset=data.copy()"
   ]
  },
  {
   "cell_type": "code",
   "execution_count": 52,
   "id": "574bbc1f",
   "metadata": {},
   "outputs": [
    {
     "data": {
      "text/html": [
       "<div>\n",
       "<style scoped>\n",
       "    .dataframe tbody tr th:only-of-type {\n",
       "        vertical-align: middle;\n",
       "    }\n",
       "\n",
       "    .dataframe tbody tr th {\n",
       "        vertical-align: top;\n",
       "    }\n",
       "\n",
       "    .dataframe thead th {\n",
       "        text-align: right;\n",
       "    }\n",
       "</style>\n",
       "<table border=\"1\" class=\"dataframe\">\n",
       "  <thead>\n",
       "    <tr style=\"text-align: right;\">\n",
       "      <th></th>\n",
       "      <th>Id</th>\n",
       "      <th>Type</th>\n",
       "      <th>Date</th>\n",
       "      <th>CountA</th>\n",
       "      <th>CountB</th>\n",
       "      <th>CountC</th>\n",
       "      <th>FeedBack</th>\n",
       "    </tr>\n",
       "  </thead>\n",
       "  <tbody>\n",
       "    <tr>\n",
       "      <th>0</th>\n",
       "      <td>10121</td>\n",
       "      <td>Email</td>\n",
       "      <td>2016-08-04 10:16:47</td>\n",
       "      <td>0.096352</td>\n",
       "      <td>0.769845</td>\n",
       "      <td>0.159108</td>\n",
       "      <td>NI</td>\n",
       "    </tr>\n",
       "    <tr>\n",
       "      <th>1</th>\n",
       "      <td>10122</td>\n",
       "      <td>Email</td>\n",
       "      <td>2016-08-04 10:18:28</td>\n",
       "      <td>0.586269</td>\n",
       "      <td>0.953805</td>\n",
       "      <td>0.351482</td>\n",
       "      <td>NI</td>\n",
       "    </tr>\n",
       "    <tr>\n",
       "      <th>2</th>\n",
       "      <td>10123</td>\n",
       "      <td>Email</td>\n",
       "      <td>2016-08-04 10:30:24</td>\n",
       "      <td>0.723392</td>\n",
       "      <td>0.761742</td>\n",
       "      <td>0.527675</td>\n",
       "      <td>NI</td>\n",
       "    </tr>\n",
       "    <tr>\n",
       "      <th>3</th>\n",
       "      <td>10124</td>\n",
       "      <td>Email</td>\n",
       "      <td>2016-08-04 10:41:56</td>\n",
       "      <td>0.516635</td>\n",
       "      <td>0.391858</td>\n",
       "      <td>0.425367</td>\n",
       "      <td>NI</td>\n",
       "    </tr>\n",
       "    <tr>\n",
       "      <th>4</th>\n",
       "      <td>10125</td>\n",
       "      <td>Email</td>\n",
       "      <td>2016-08-04 10:59:00</td>\n",
       "      <td>0.112042</td>\n",
       "      <td>0.651565</td>\n",
       "      <td>0.514086</td>\n",
       "      <td>NI</td>\n",
       "    </tr>\n",
       "    <tr>\n",
       "      <th>...</th>\n",
       "      <td>...</td>\n",
       "      <td>...</td>\n",
       "      <td>...</td>\n",
       "      <td>...</td>\n",
       "      <td>...</td>\n",
       "      <td>...</td>\n",
       "      <td>...</td>\n",
       "    </tr>\n",
       "    <tr>\n",
       "      <th>59</th>\n",
       "      <td>10215</td>\n",
       "      <td>Update</td>\n",
       "      <td>2016-08-04 17:44:26</td>\n",
       "      <td>0.450194</td>\n",
       "      <td>0.053212</td>\n",
       "      <td>0.103549</td>\n",
       "      <td>NI</td>\n",
       "    </tr>\n",
       "    <tr>\n",
       "      <th>60</th>\n",
       "      <td>10216</td>\n",
       "      <td>Email</td>\n",
       "      <td>2016-08-04 17:44:37</td>\n",
       "      <td>0.413114</td>\n",
       "      <td>0.600757</td>\n",
       "      <td>0.041972</td>\n",
       "      <td>NI</td>\n",
       "    </tr>\n",
       "    <tr>\n",
       "      <th>61</th>\n",
       "      <td>10217</td>\n",
       "      <td>Update</td>\n",
       "      <td>2016-08-04 18:07:52</td>\n",
       "      <td>0.595915</td>\n",
       "      <td>0.759617</td>\n",
       "      <td>0.771144</td>\n",
       "      <td>NC</td>\n",
       "    </tr>\n",
       "    <tr>\n",
       "      <th>62</th>\n",
       "      <td>10218</td>\n",
       "      <td>Email</td>\n",
       "      <td>2016-08-04 19:04:04</td>\n",
       "      <td>0.691952</td>\n",
       "      <td>0.189839</td>\n",
       "      <td>0.246419</td>\n",
       "      <td>NI</td>\n",
       "    </tr>\n",
       "    <tr>\n",
       "      <th>63</th>\n",
       "      <td>10219</td>\n",
       "      <td>Update</td>\n",
       "      <td>2016-08-04 19:04:15</td>\n",
       "      <td>0.214113</td>\n",
       "      <td>0.721562</td>\n",
       "      <td>0.123712</td>\n",
       "      <td>Undecided</td>\n",
       "    </tr>\n",
       "  </tbody>\n",
       "</table>\n",
       "<p>64 rows × 7 columns</p>\n",
       "</div>"
      ],
      "text/plain": [
       "       Id    Type                Date    CountA    CountB    CountC   FeedBack\n",
       "0   10121   Email 2016-08-04 10:16:47  0.096352  0.769845  0.159108         NI\n",
       "1   10122   Email 2016-08-04 10:18:28  0.586269  0.953805  0.351482         NI\n",
       "2   10123   Email 2016-08-04 10:30:24  0.723392  0.761742  0.527675         NI\n",
       "3   10124   Email 2016-08-04 10:41:56  0.516635  0.391858  0.425367         NI\n",
       "4   10125   Email 2016-08-04 10:59:00  0.112042  0.651565  0.514086         NI\n",
       "..    ...     ...                 ...       ...       ...       ...        ...\n",
       "59  10215  Update 2016-08-04 17:44:26  0.450194  0.053212  0.103549         NI\n",
       "60  10216   Email 2016-08-04 17:44:37  0.413114  0.600757  0.041972         NI\n",
       "61  10217  Update 2016-08-04 18:07:52  0.595915  0.759617  0.771144         NC\n",
       "62  10218   Email 2016-08-04 19:04:04  0.691952  0.189839  0.246419         NI\n",
       "63  10219  Update 2016-08-04 19:04:15  0.214113  0.721562  0.123712  Undecided\n",
       "\n",
       "[64 rows x 7 columns]"
      ]
     },
     "execution_count": 52,
     "metadata": {},
     "output_type": "execute_result"
    }
   ],
   "source": [
    "new_dataset"
   ]
  },
  {
   "cell_type": "code",
   "execution_count": 158,
   "id": "64d4f98b",
   "metadata": {},
   "outputs": [
    {
     "data": {
      "text/plain": [
       "1    30\n",
       "0    28\n",
       "2     5\n",
       "3     1\n",
       "Name: FeedBack, dtype: int64"
      ]
     },
     "execution_count": 158,
     "metadata": {},
     "output_type": "execute_result"
    }
   ],
   "source": [
    "new_dataset['FeedBack'].value_counts()"
   ]
  },
  {
   "cell_type": "code",
   "execution_count": 53,
   "id": "2dfca1d2",
   "metadata": {},
   "outputs": [
    {
     "data": {
      "text/plain": [
       "<seaborn.axisgrid.PairGrid at 0x1fa0dc74fa0>"
      ]
     },
     "execution_count": 53,
     "metadata": {},
     "output_type": "execute_result"
    },
    {
     "data": {
      "image/png": "[encoded data removed]",
      "text/plain": [
       "<Figure size 720x720 with 20 Axes>"
      ]
     },
     "metadata": {},
     "output_type": "display_data"
    }
   ],
   "source": [
    "sns.set_style(style='darkgrid')\n",
    "sns.pairplot(new_dataset)"
   ]
  },
  {
   "cell_type": "markdown",
   "id": "dd555d03",
   "metadata": {},
   "source": [
    "Encoding the dataset for target variable called feedback "
   ]
  },
  {
   "cell_type": "code",
   "execution_count": 54,
   "id": "675aebe5",
   "metadata": {},
   "outputs": [],
   "source": [
    "from sklearn.preprocessing import LabelEncoder"
   ]
  },
  {
   "cell_type": "code",
   "execution_count": 56,
   "id": "01484db9",
   "metadata": {},
   "outputs": [],
   "source": [
    "labelencoder = LabelEncoder()\n",
    "new_dataset.iloc[:, -1] = labelencoder.fit_transform(new_dataset.iloc[:,-1])"
   ]
  },
  {
   "cell_type": "code",
   "execution_count": 57,
   "id": "b564f2a0",
   "metadata": {},
   "outputs": [
    {
     "data": {
      "text/html": [
       "<div>\n",
       "<style scoped>\n",
       "    .dataframe tbody tr th:only-of-type {\n",
       "        vertical-align: middle;\n",
       "    }\n",
       "\n",
       "    .dataframe tbody tr th {\n",
       "        vertical-align: top;\n",
       "    }\n",
       "\n",
       "    .dataframe thead th {\n",
       "        text-align: right;\n",
       "    }\n",
       "</style>\n",
       "<table border=\"1\" class=\"dataframe\">\n",
       "  <thead>\n",
       "    <tr style=\"text-align: right;\">\n",
       "      <th></th>\n",
       "      <th>Id</th>\n",
       "      <th>Type</th>\n",
       "      <th>Date</th>\n",
       "      <th>CountA</th>\n",
       "      <th>CountB</th>\n",
       "      <th>CountC</th>\n",
       "      <th>FeedBack</th>\n",
       "    </tr>\n",
       "  </thead>\n",
       "  <tbody>\n",
       "    <tr>\n",
       "      <th>0</th>\n",
       "      <td>10121</td>\n",
       "      <td>Email</td>\n",
       "      <td>2016-08-04 10:16:47</td>\n",
       "      <td>0.096352</td>\n",
       "      <td>0.769845</td>\n",
       "      <td>0.159108</td>\n",
       "      <td>1</td>\n",
       "    </tr>\n",
       "    <tr>\n",
       "      <th>1</th>\n",
       "      <td>10122</td>\n",
       "      <td>Email</td>\n",
       "      <td>2016-08-04 10:18:28</td>\n",
       "      <td>0.586269</td>\n",
       "      <td>0.953805</td>\n",
       "      <td>0.351482</td>\n",
       "      <td>1</td>\n",
       "    </tr>\n",
       "    <tr>\n",
       "      <th>2</th>\n",
       "      <td>10123</td>\n",
       "      <td>Email</td>\n",
       "      <td>2016-08-04 10:30:24</td>\n",
       "      <td>0.723392</td>\n",
       "      <td>0.761742</td>\n",
       "      <td>0.527675</td>\n",
       "      <td>1</td>\n",
       "    </tr>\n",
       "    <tr>\n",
       "      <th>3</th>\n",
       "      <td>10124</td>\n",
       "      <td>Email</td>\n",
       "      <td>2016-08-04 10:41:56</td>\n",
       "      <td>0.516635</td>\n",
       "      <td>0.391858</td>\n",
       "      <td>0.425367</td>\n",
       "      <td>1</td>\n",
       "    </tr>\n",
       "    <tr>\n",
       "      <th>4</th>\n",
       "      <td>10125</td>\n",
       "      <td>Email</td>\n",
       "      <td>2016-08-04 10:59:00</td>\n",
       "      <td>0.112042</td>\n",
       "      <td>0.651565</td>\n",
       "      <td>0.514086</td>\n",
       "      <td>1</td>\n",
       "    </tr>\n",
       "    <tr>\n",
       "      <th>...</th>\n",
       "      <td>...</td>\n",
       "      <td>...</td>\n",
       "      <td>...</td>\n",
       "      <td>...</td>\n",
       "      <td>...</td>\n",
       "      <td>...</td>\n",
       "      <td>...</td>\n",
       "    </tr>\n",
       "    <tr>\n",
       "      <th>59</th>\n",
       "      <td>10215</td>\n",
       "      <td>Update</td>\n",
       "      <td>2016-08-04 17:44:26</td>\n",
       "      <td>0.450194</td>\n",
       "      <td>0.053212</td>\n",
       "      <td>0.103549</td>\n",
       "      <td>1</td>\n",
       "    </tr>\n",
       "    <tr>\n",
       "      <th>60</th>\n",
       "      <td>10216</td>\n",
       "      <td>Email</td>\n",
       "      <td>2016-08-04 17:44:37</td>\n",
       "      <td>0.413114</td>\n",
       "      <td>0.600757</td>\n",
       "      <td>0.041972</td>\n",
       "      <td>1</td>\n",
       "    </tr>\n",
       "    <tr>\n",
       "      <th>61</th>\n",
       "      <td>10217</td>\n",
       "      <td>Update</td>\n",
       "      <td>2016-08-04 18:07:52</td>\n",
       "      <td>0.595915</td>\n",
       "      <td>0.759617</td>\n",
       "      <td>0.771144</td>\n",
       "      <td>0</td>\n",
       "    </tr>\n",
       "    <tr>\n",
       "      <th>62</th>\n",
       "      <td>10218</td>\n",
       "      <td>Email</td>\n",
       "      <td>2016-08-04 19:04:04</td>\n",
       "      <td>0.691952</td>\n",
       "      <td>0.189839</td>\n",
       "      <td>0.246419</td>\n",
       "      <td>1</td>\n",
       "    </tr>\n",
       "    <tr>\n",
       "      <th>63</th>\n",
       "      <td>10219</td>\n",
       "      <td>Update</td>\n",
       "      <td>2016-08-04 19:04:15</td>\n",
       "      <td>0.214113</td>\n",
       "      <td>0.721562</td>\n",
       "      <td>0.123712</td>\n",
       "      <td>2</td>\n",
       "    </tr>\n",
       "  </tbody>\n",
       "</table>\n",
       "<p>64 rows × 7 columns</p>\n",
       "</div>"
      ],
      "text/plain": [
       "       Id    Type                Date    CountA    CountB    CountC  FeedBack\n",
       "0   10121   Email 2016-08-04 10:16:47  0.096352  0.769845  0.159108         1\n",
       "1   10122   Email 2016-08-04 10:18:28  0.586269  0.953805  0.351482         1\n",
       "2   10123   Email 2016-08-04 10:30:24  0.723392  0.761742  0.527675         1\n",
       "3   10124   Email 2016-08-04 10:41:56  0.516635  0.391858  0.425367         1\n",
       "4   10125   Email 2016-08-04 10:59:00  0.112042  0.651565  0.514086         1\n",
       "..    ...     ...                 ...       ...       ...       ...       ...\n",
       "59  10215  Update 2016-08-04 17:44:26  0.450194  0.053212  0.103549         1\n",
       "60  10216   Email 2016-08-04 17:44:37  0.413114  0.600757  0.041972         1\n",
       "61  10217  Update 2016-08-04 18:07:52  0.595915  0.759617  0.771144         0\n",
       "62  10218   Email 2016-08-04 19:04:04  0.691952  0.189839  0.246419         1\n",
       "63  10219  Update 2016-08-04 19:04:15  0.214113  0.721562  0.123712         2\n",
       "\n",
       "[64 rows x 7 columns]"
      ]
     },
     "execution_count": 57,
     "metadata": {},
     "output_type": "execute_result"
    }
   ],
   "source": [
    "new_dataset"
   ]
  },
  {
   "cell_type": "code",
   "execution_count": 58,
   "id": "df3df25c",
   "metadata": {},
   "outputs": [],
   "source": [
    "labelencoder = LabelEncoder()\n",
    "new_dataset.iloc[:, 1] = labelencoder.fit_transform(new_dataset.iloc[:,1])"
   ]
  },
  {
   "cell_type": "code",
   "execution_count": 78,
   "id": "fafda609",
   "metadata": {},
   "outputs": [
    {
     "data": {
      "text/html": [
       "<div>\n",
       "<style scoped>\n",
       "    .dataframe tbody tr th:only-of-type {\n",
       "        vertical-align: middle;\n",
       "    }\n",
       "\n",
       "    .dataframe tbody tr th {\n",
       "        vertical-align: top;\n",
       "    }\n",
       "\n",
       "    .dataframe thead th {\n",
       "        text-align: right;\n",
       "    }\n",
       "</style>\n",
       "<table border=\"1\" class=\"dataframe\">\n",
       "  <thead>\n",
       "    <tr style=\"text-align: right;\">\n",
       "      <th></th>\n",
       "      <th>Id</th>\n",
       "      <th>Type</th>\n",
       "      <th>CountA</th>\n",
       "      <th>CountB</th>\n",
       "      <th>CountC</th>\n",
       "      <th>FeedBack</th>\n",
       "    </tr>\n",
       "  </thead>\n",
       "  <tbody>\n",
       "    <tr>\n",
       "      <th>0</th>\n",
       "      <td>10121</td>\n",
       "      <td>1</td>\n",
       "      <td>0.096352</td>\n",
       "      <td>0.769845</td>\n",
       "      <td>0.159108</td>\n",
       "      <td>1</td>\n",
       "    </tr>\n",
       "    <tr>\n",
       "      <th>1</th>\n",
       "      <td>10122</td>\n",
       "      <td>1</td>\n",
       "      <td>0.586269</td>\n",
       "      <td>0.953805</td>\n",
       "      <td>0.351482</td>\n",
       "      <td>1</td>\n",
       "    </tr>\n",
       "    <tr>\n",
       "      <th>2</th>\n",
       "      <td>10123</td>\n",
       "      <td>1</td>\n",
       "      <td>0.723392</td>\n",
       "      <td>0.761742</td>\n",
       "      <td>0.527675</td>\n",
       "      <td>1</td>\n",
       "    </tr>\n",
       "    <tr>\n",
       "      <th>3</th>\n",
       "      <td>10124</td>\n",
       "      <td>1</td>\n",
       "      <td>0.516635</td>\n",
       "      <td>0.391858</td>\n",
       "      <td>0.425367</td>\n",
       "      <td>1</td>\n",
       "    </tr>\n",
       "    <tr>\n",
       "      <th>4</th>\n",
       "      <td>10125</td>\n",
       "      <td>1</td>\n",
       "      <td>0.112042</td>\n",
       "      <td>0.651565</td>\n",
       "      <td>0.514086</td>\n",
       "      <td>1</td>\n",
       "    </tr>\n",
       "    <tr>\n",
       "      <th>...</th>\n",
       "      <td>...</td>\n",
       "      <td>...</td>\n",
       "      <td>...</td>\n",
       "      <td>...</td>\n",
       "      <td>...</td>\n",
       "      <td>...</td>\n",
       "    </tr>\n",
       "    <tr>\n",
       "      <th>59</th>\n",
       "      <td>10215</td>\n",
       "      <td>2</td>\n",
       "      <td>0.450194</td>\n",
       "      <td>0.053212</td>\n",
       "      <td>0.103549</td>\n",
       "      <td>1</td>\n",
       "    </tr>\n",
       "    <tr>\n",
       "      <th>60</th>\n",
       "      <td>10216</td>\n",
       "      <td>1</td>\n",
       "      <td>0.413114</td>\n",
       "      <td>0.600757</td>\n",
       "      <td>0.041972</td>\n",
       "      <td>1</td>\n",
       "    </tr>\n",
       "    <tr>\n",
       "      <th>61</th>\n",
       "      <td>10217</td>\n",
       "      <td>2</td>\n",
       "      <td>0.595915</td>\n",
       "      <td>0.759617</td>\n",
       "      <td>0.771144</td>\n",
       "      <td>0</td>\n",
       "    </tr>\n",
       "    <tr>\n",
       "      <th>62</th>\n",
       "      <td>10218</td>\n",
       "      <td>1</td>\n",
       "      <td>0.691952</td>\n",
       "      <td>0.189839</td>\n",
       "      <td>0.246419</td>\n",
       "      <td>1</td>\n",
       "    </tr>\n",
       "    <tr>\n",
       "      <th>63</th>\n",
       "      <td>10219</td>\n",
       "      <td>2</td>\n",
       "      <td>0.214113</td>\n",
       "      <td>0.721562</td>\n",
       "      <td>0.123712</td>\n",
       "      <td>2</td>\n",
       "    </tr>\n",
       "  </tbody>\n",
       "</table>\n",
       "<p>64 rows × 6 columns</p>\n",
       "</div>"
      ],
      "text/plain": [
       "       Id  Type    CountA    CountB    CountC  FeedBack\n",
       "0   10121     1  0.096352  0.769845  0.159108         1\n",
       "1   10122     1  0.586269  0.953805  0.351482         1\n",
       "2   10123     1  0.723392  0.761742  0.527675         1\n",
       "3   10124     1  0.516635  0.391858  0.425367         1\n",
       "4   10125     1  0.112042  0.651565  0.514086         1\n",
       "..    ...   ...       ...       ...       ...       ...\n",
       "59  10215     2  0.450194  0.053212  0.103549         1\n",
       "60  10216     1  0.413114  0.600757  0.041972         1\n",
       "61  10217     2  0.595915  0.759617  0.771144         0\n",
       "62  10218     1  0.691952  0.189839  0.246419         1\n",
       "63  10219     2  0.214113  0.721562  0.123712         2\n",
       "\n",
       "[64 rows x 6 columns]"
      ]
     },
     "execution_count": 78,
     "metadata": {},
     "output_type": "execute_result"
    }
   ],
   "source": [
    "new_dataset"
   ]
  },
  {
   "cell_type": "code",
   "execution_count": 77,
   "id": "a0e21df1",
   "metadata": {},
   "outputs": [],
   "source": [
    "new_dataset=new_dataset.drop(['Date'],axis=1)"
   ]
  },
  {
   "cell_type": "markdown",
   "id": "5a9b0fef",
   "metadata": {},
   "source": [
    "Again drop the date and time columns same date in the whole rows which does not help in the predict the feedback"
   ]
  },
  {
   "cell_type": "code",
   "execution_count": 168,
   "id": "af75211a",
   "metadata": {},
   "outputs": [],
   "source": [
    "X=new_dataset.drop(labels='FeedBack',axis=1)\n",
    "Y=new_dataset['FeedBack']"
   ]
  },
  {
   "cell_type": "code",
   "execution_count": 169,
   "id": "8deef321",
   "metadata": {},
   "outputs": [
    {
     "data": {
      "text/html": [
       "<div>\n",
       "<style scoped>\n",
       "    .dataframe tbody tr th:only-of-type {\n",
       "        vertical-align: middle;\n",
       "    }\n",
       "\n",
       "    .dataframe tbody tr th {\n",
       "        vertical-align: top;\n",
       "    }\n",
       "\n",
       "    .dataframe thead th {\n",
       "        text-align: right;\n",
       "    }\n",
       "</style>\n",
       "<table border=\"1\" class=\"dataframe\">\n",
       "  <thead>\n",
       "    <tr style=\"text-align: right;\">\n",
       "      <th></th>\n",
       "      <th>Id</th>\n",
       "      <th>Type</th>\n",
       "      <th>CountA</th>\n",
       "      <th>CountB</th>\n",
       "      <th>CountC</th>\n",
       "    </tr>\n",
       "  </thead>\n",
       "  <tbody>\n",
       "    <tr>\n",
       "      <th>0</th>\n",
       "      <td>10121</td>\n",
       "      <td>1</td>\n",
       "      <td>0.096352</td>\n",
       "      <td>0.769845</td>\n",
       "      <td>0.159108</td>\n",
       "    </tr>\n",
       "    <tr>\n",
       "      <th>1</th>\n",
       "      <td>10122</td>\n",
       "      <td>1</td>\n",
       "      <td>0.586269</td>\n",
       "      <td>0.953805</td>\n",
       "      <td>0.351482</td>\n",
       "    </tr>\n",
       "    <tr>\n",
       "      <th>2</th>\n",
       "      <td>10123</td>\n",
       "      <td>1</td>\n",
       "      <td>0.723392</td>\n",
       "      <td>0.761742</td>\n",
       "      <td>0.527675</td>\n",
       "    </tr>\n",
       "    <tr>\n",
       "      <th>3</th>\n",
       "      <td>10124</td>\n",
       "      <td>1</td>\n",
       "      <td>0.516635</td>\n",
       "      <td>0.391858</td>\n",
       "      <td>0.425367</td>\n",
       "    </tr>\n",
       "    <tr>\n",
       "      <th>4</th>\n",
       "      <td>10125</td>\n",
       "      <td>1</td>\n",
       "      <td>0.112042</td>\n",
       "      <td>0.651565</td>\n",
       "      <td>0.514086</td>\n",
       "    </tr>\n",
       "    <tr>\n",
       "      <th>...</th>\n",
       "      <td>...</td>\n",
       "      <td>...</td>\n",
       "      <td>...</td>\n",
       "      <td>...</td>\n",
       "      <td>...</td>\n",
       "    </tr>\n",
       "    <tr>\n",
       "      <th>59</th>\n",
       "      <td>10215</td>\n",
       "      <td>2</td>\n",
       "      <td>0.450194</td>\n",
       "      <td>0.053212</td>\n",
       "      <td>0.103549</td>\n",
       "    </tr>\n",
       "    <tr>\n",
       "      <th>60</th>\n",
       "      <td>10216</td>\n",
       "      <td>1</td>\n",
       "      <td>0.413114</td>\n",
       "      <td>0.600757</td>\n",
       "      <td>0.041972</td>\n",
       "    </tr>\n",
       "    <tr>\n",
       "      <th>61</th>\n",
       "      <td>10217</td>\n",
       "      <td>2</td>\n",
       "      <td>0.595915</td>\n",
       "      <td>0.759617</td>\n",
       "      <td>0.771144</td>\n",
       "    </tr>\n",
       "    <tr>\n",
       "      <th>62</th>\n",
       "      <td>10218</td>\n",
       "      <td>1</td>\n",
       "      <td>0.691952</td>\n",
       "      <td>0.189839</td>\n",
       "      <td>0.246419</td>\n",
       "    </tr>\n",
       "    <tr>\n",
       "      <th>63</th>\n",
       "      <td>10219</td>\n",
       "      <td>2</td>\n",
       "      <td>0.214113</td>\n",
       "      <td>0.721562</td>\n",
       "      <td>0.123712</td>\n",
       "    </tr>\n",
       "  </tbody>\n",
       "</table>\n",
       "<p>64 rows × 5 columns</p>\n",
       "</div>"
      ],
      "text/plain": [
       "       Id  Type    CountA    CountB    CountC\n",
       "0   10121     1  0.096352  0.769845  0.159108\n",
       "1   10122     1  0.586269  0.953805  0.351482\n",
       "2   10123     1  0.723392  0.761742  0.527675\n",
       "3   10124     1  0.516635  0.391858  0.425367\n",
       "4   10125     1  0.112042  0.651565  0.514086\n",
       "..    ...   ...       ...       ...       ...\n",
       "59  10215     2  0.450194  0.053212  0.103549\n",
       "60  10216     1  0.413114  0.600757  0.041972\n",
       "61  10217     2  0.595915  0.759617  0.771144\n",
       "62  10218     1  0.691952  0.189839  0.246419\n",
       "63  10219     2  0.214113  0.721562  0.123712\n",
       "\n",
       "[64 rows x 5 columns]"
      ]
     },
     "execution_count": 169,
     "metadata": {},
     "output_type": "execute_result"
    }
   ],
   "source": [
    "X"
   ]
  },
  {
   "cell_type": "code",
   "execution_count": 81,
   "id": "dfda3efb",
   "metadata": {},
   "outputs": [
    {
     "data": {
      "text/plain": [
       "0     1\n",
       "1     1\n",
       "2     1\n",
       "3     1\n",
       "4     1\n",
       "     ..\n",
       "59    1\n",
       "60    1\n",
       "61    0\n",
       "62    1\n",
       "63    2\n",
       "Name: FeedBack, Length: 64, dtype: int32"
      ]
     },
     "execution_count": 81,
     "metadata": {},
     "output_type": "execute_result"
    }
   ],
   "source": [
    "Y"
   ]
  },
  {
   "cell_type": "markdown",
   "id": "e2449c2c",
   "metadata": {},
   "source": [
    "# Model Building\n",
    "\n",
    "* spilting the dataset into x and y.the testsize is assign as the 30% \n",
    "* the dataset is give as classification datset so we are using the logistics regression and decision tree"
   ]
  },
  {
   "cell_type": "code",
   "execution_count": 82,
   "id": "1b929563",
   "metadata": {},
   "outputs": [
    {
     "data": {
      "text/plain": [
       "((64, 5), (64,))"
      ]
     },
     "execution_count": 82,
     "metadata": {},
     "output_type": "execute_result"
    }
   ],
   "source": [
    "X.shape,Y.shape"
   ]
  },
  {
   "cell_type": "code",
   "execution_count": 109,
   "id": "b6157727",
   "metadata": {},
   "outputs": [],
   "source": [
    "from sklearn.model_selection import train_test_split\n",
    "X_train,X_test,y_train,y_test = train_test_split(X,Y,test_size = 0.30, random_state = 12)"
   ]
  },
  {
   "cell_type": "code",
   "execution_count": 110,
   "id": "15298287",
   "metadata": {},
   "outputs": [
    {
     "data": {
      "text/plain": [
       "((44, 5), (44,))"
      ]
     },
     "execution_count": 110,
     "metadata": {},
     "output_type": "execute_result"
    }
   ],
   "source": [
    "X_train.shape,y_train.shape"
   ]
  },
  {
   "cell_type": "code",
   "execution_count": 111,
   "id": "feebce00",
   "metadata": {},
   "outputs": [
    {
     "data": {
      "text/plain": [
       "((20, 5), (20,))"
      ]
     },
     "execution_count": 111,
     "metadata": {},
     "output_type": "execute_result"
    }
   ],
   "source": [
    "X_test.shape,y_test.shape"
   ]
  },
  {
   "cell_type": "code",
   "execution_count": 112,
   "id": "49063f9e",
   "metadata": {},
   "outputs": [
    {
     "data": {
      "text/plain": [
       "LogisticRegression()"
      ]
     },
     "execution_count": 112,
     "metadata": {},
     "output_type": "execute_result"
    }
   ],
   "source": [
    "from sklearn.linear_model import LogisticRegression\n",
    "logistic_model = LogisticRegression()\n",
    "logistic_model.fit(X_train,y_train)"
   ]
  },
  {
   "cell_type": "code",
   "execution_count": 113,
   "id": "d32a4f62",
   "metadata": {},
   "outputs": [
    {
     "data": {
      "text/plain": [
       "DecisionTreeClassifier()"
      ]
     },
     "execution_count": 113,
     "metadata": {},
     "output_type": "execute_result"
    }
   ],
   "source": [
    "from sklearn.tree import DecisionTreeClassifier\n",
    "dt_model = DecisionTreeClassifier()\n",
    "dt_model.fit(X_train,y_train)"
   ]
  },
  {
   "cell_type": "code",
   "execution_count": 114,
   "id": "cf2b3f45",
   "metadata": {},
   "outputs": [
    {
     "data": {
      "text/plain": [
       "array([[-2.16848285e-04,  1.76358098e+00,  1.09215733e-01,\n",
       "        -1.16625305e-01,  8.48219317e-02],\n",
       "       [ 3.67842108e-04, -1.93840449e+00, -1.15426961e-01,\n",
       "         9.53450976e-02, -1.59041723e-02],\n",
       "       [-1.50993823e-04,  1.74823511e-01,  6.21122723e-03,\n",
       "         2.12802071e-02, -6.89177594e-02]])"
      ]
     },
     "execution_count": 114,
     "metadata": {},
     "output_type": "execute_result"
    }
   ],
   "source": [
    "logistic_model.coef_"
   ]
  },
  {
   "cell_type": "code",
   "execution_count": 115,
   "id": "372f4418",
   "metadata": {},
   "outputs": [
    {
     "data": {
      "text/plain": [
       "array([ 0.00039157,  0.00055416, -0.00094574])"
      ]
     },
     "execution_count": 115,
     "metadata": {},
     "output_type": "execute_result"
    }
   ],
   "source": [
    "logistic_model.intercept_"
   ]
  },
  {
   "cell_type": "markdown",
   "id": "90aefc22",
   "metadata": {},
   "source": [
    "# TRAINING"
   ]
  },
  {
   "cell_type": "code",
   "execution_count": 116,
   "id": "89d06b82",
   "metadata": {},
   "outputs": [],
   "source": [
    "y_pred_train = dt_model.predict(X_train)"
   ]
  },
  {
   "cell_type": "code",
   "execution_count": 117,
   "id": "52e1796f",
   "metadata": {},
   "outputs": [
    {
     "name": "stdout",
     "output_type": "stream",
     "text": [
      "1.0\n"
     ]
    }
   ],
   "source": [
    "from sklearn.metrics import accuracy_score,classification_report,confusion_matrix\n",
    "print(accuracy_score(y_train,y_pred_train))"
   ]
  },
  {
   "cell_type": "code",
   "execution_count": 118,
   "id": "d095d038",
   "metadata": {},
   "outputs": [
    {
     "name": "stdout",
     "output_type": "stream",
     "text": [
      "Classification Report:\n",
      "               precision    recall  f1-score   support\n",
      "\n",
      "           0       1.00      1.00      1.00        20\n",
      "           1       1.00      1.00      1.00        22\n",
      "           2       1.00      1.00      1.00         2\n",
      "\n",
      "    accuracy                           1.00        44\n",
      "   macro avg       1.00      1.00      1.00        44\n",
      "weighted avg       1.00      1.00      1.00        44\n",
      "\n"
     ]
    }
   ],
   "source": [
    "print('Classification Report:\\n',classification_report(y_train,y_pred_train))"
   ]
  },
  {
   "cell_type": "code",
   "execution_count": 119,
   "id": "ee5c1b45",
   "metadata": {},
   "outputs": [
    {
     "name": "stdout",
     "output_type": "stream",
     "text": [
      "Confusion Matrix:\n",
      " [[20  0  0]\n",
      " [ 0 22  0]\n",
      " [ 0  0  2]]\n"
     ]
    }
   ],
   "source": [
    "print('Confusion Matrix:\\n',confusion_matrix(y_train,y_pred_train))"
   ]
  },
  {
   "cell_type": "markdown",
   "id": "4ca1157b",
   "metadata": {},
   "source": [
    "# TESTING"
   ]
  },
  {
   "cell_type": "code",
   "execution_count": 120,
   "id": "3d67af68",
   "metadata": {},
   "outputs": [],
   "source": [
    "y_pred_test = logistic_model.predict(X_test)"
   ]
  },
  {
   "cell_type": "code",
   "execution_count": 121,
   "id": "758177ea",
   "metadata": {},
   "outputs": [
    {
     "data": {
      "text/plain": [
       "0.7"
      ]
     },
     "execution_count": 121,
     "metadata": {},
     "output_type": "execute_result"
    }
   ],
   "source": [
    "accuracy_score(y_test,y_pred_test)"
   ]
  },
  {
   "cell_type": "code",
   "execution_count": 122,
   "id": "4a28a403",
   "metadata": {},
   "outputs": [],
   "source": [
    "y_pred_test = dt_model.predict(X_test)"
   ]
  },
  {
   "cell_type": "code",
   "execution_count": 123,
   "id": "449666ef",
   "metadata": {},
   "outputs": [
    {
     "data": {
      "text/plain": [
       "0.7"
      ]
     },
     "execution_count": 123,
     "metadata": {},
     "output_type": "execute_result"
    }
   ],
   "source": [
    "accuracy_score(y_test,y_pred_test)"
   ]
  },
  {
   "cell_type": "code",
   "execution_count": 124,
   "id": "2e3ae15d",
   "metadata": {},
   "outputs": [
    {
     "data": {
      "text/plain": [
       "array([[8, 0, 0, 0],\n",
       "       [2, 6, 0, 0],\n",
       "       [2, 1, 0, 0],\n",
       "       [1, 0, 0, 0]], dtype=int64)"
      ]
     },
     "execution_count": 124,
     "metadata": {},
     "output_type": "execute_result"
    }
   ],
   "source": [
    "confusion_matrix(y_test,y_pred_test)"
   ]
  },
  {
   "cell_type": "markdown",
   "id": "10d7fa45",
   "metadata": {},
   "source": [
    "Accuracy\n",
    "* For Train data the accuracy is 100%\n",
    "* For Test data the accuracy is 70%"
   ]
  },
  {
   "cell_type": "markdown",
   "id": "6d28c832",
   "metadata": {},
   "source": [
    "# Model Depolyment"
   ]
  },
  {
   "cell_type": "code",
   "execution_count": 102,
   "id": "1e708aa1",
   "metadata": {},
   "outputs": [],
   "source": [
    "from pickle import dump"
   ]
  },
  {
   "cell_type": "code",
   "execution_count": 103,
   "id": "bd670dbb",
   "metadata": {},
   "outputs": [],
   "source": [
    "dump(logistic_model,open('log_model.pkl','wb'))"
   ]
  },
  {
   "cell_type": "code",
   "execution_count": 104,
   "id": "b10ae59a",
   "metadata": {},
   "outputs": [],
   "source": [
    "from pickle import load"
   ]
  },
  {
   "cell_type": "code",
   "execution_count": 105,
   "id": "05acc238",
   "metadata": {},
   "outputs": [],
   "source": [
    "loaded_logistic_model = load(open('log_model.pkl','rb'))"
   ]
  },
  {
   "cell_type": "code",
   "execution_count": 106,
   "id": "ae5649a1",
   "metadata": {},
   "outputs": [],
   "source": [
    "y_prediction_validation = loaded_logistic_model.predict(X_test)"
   ]
  },
  {
   "cell_type": "markdown",
   "id": "95651bf9",
   "metadata": {},
   "source": [
    "# Predicting the new dataset"
   ]
  },
  {
   "cell_type": "code",
   "execution_count": 131,
   "id": "dfb906e2",
   "metadata": {},
   "outputs": [],
   "source": [
    "new_data=pd.DataFrame({'Id':10223,'Type':1,'CountA':0.988,'CountB':0.7543,'CountC':0.5676},index=[1])"
   ]
  },
  {
   "cell_type": "code",
   "execution_count": 163,
   "id": "97fb7106",
   "metadata": {},
   "outputs": [],
   "source": [
    "label1=dt_model.predict(new_data)"
   ]
  },
  {
   "cell_type": "code",
   "execution_count": 164,
   "id": "bd340699",
   "metadata": {},
   "outputs": [
    {
     "data": {
      "text/plain": [
       "array([1])"
      ]
     },
     "execution_count": 164,
     "metadata": {},
     "output_type": "execute_result"
    }
   ],
   "source": [
    "label1"
   ]
  },
  {
   "cell_type": "code",
   "execution_count": 154,
   "id": "a53fdc5c",
   "metadata": {},
   "outputs": [],
   "source": [
    "new_data2=pd.DataFrame({'Id':10234,'Type':2,'CountA':0.943,'CountB':0.7473,'CountC':0.5126},index=[1])"
   ]
  },
  {
   "cell_type": "code",
   "execution_count": 161,
   "id": "1cc65a4a",
   "metadata": {},
   "outputs": [],
   "source": [
    "label2=logistic_model.predict(new_data2)"
   ]
  },
  {
   "cell_type": "code",
   "execution_count": 162,
   "id": "963ac728",
   "metadata": {},
   "outputs": [
    {
     "data": {
      "text/plain": [
       "array([0])"
      ]
     },
     "execution_count": 162,
     "metadata": {},
     "output_type": "execute_result"
    }
   ],
   "source": [
    "label2"
   ]
  },
  {
   "cell_type": "code",
   "execution_count": null,
   "id": "6e1bea87",
   "metadata": {},
   "outputs": [],
   "source": []
  }
 ],
 "metadata": {
  "kernelspec": {
   "display_name": "Python 3 (ipykernel)",
   "language": "python",
   "name": "python3"
  },
  "language_info": {
   "codemirror_mode": {
    "name": "ipython",
    "version": 3
   },
   "file_extension": ".py",
   "mimetype": "text/x-python",
   "name": "python",
   "nbconvert_exporter": "python",
   "pygments_lexer": "ipython3",
   "version": "3.9.12"
  }
 },
 "nbformat": 4,
 "nbformat_minor": 5
}
